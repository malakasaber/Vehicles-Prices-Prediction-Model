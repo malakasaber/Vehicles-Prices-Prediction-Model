{
 "cells": [
  {
   "cell_type": "code",
   "execution_count": 1,
   "id": "a5874355",
   "metadata": {
    "_cell_guid": "b1076dfc-b9ad-4769-8c92-a6c4dae69d19",
    "_uuid": "8f2839f25d086af736a60e9eeb907d3b93b6e0e5",
    "execution": {
     "iopub.execute_input": "2024-12-18T15:03:36.309635Z",
     "iopub.status.busy": "2024-12-18T15:03:36.309124Z",
     "iopub.status.idle": "2024-12-18T15:03:37.625565Z",
     "shell.execute_reply": "2024-12-18T15:03:37.623935Z"
    },
    "papermill": {
     "duration": 1.329587,
     "end_time": "2024-12-18T15:03:37.629485",
     "exception": false,
     "start_time": "2024-12-18T15:03:36.299898",
     "status": "completed"
    },
    "tags": []
   },
   "outputs": [
    {
     "name": "stdout",
     "output_type": "stream",
     "text": [
      "/kaggle/input/vehicle-sales-data/car_prices.csv\n"
     ]
    }
   ],
   "source": [
    "# This Python 3 environment comes with many helpful analytics libraries installed\n",
    "# It is defined by the kaggle/python Docker image: https://github.com/kaggle/docker-python\n",
    "# For example, here's several helpful packages to load\n",
    "\n",
    "import numpy as np # linear algebra\n",
    "import pandas as pd # data processing, CSV file I/O (e.g. pd.read_csv)\n",
    "\n",
    "# Input data files are available in the read-only \"../input/\" directory\n",
    "# For example, running this (by clicking run or pressing Shift+Enter) will list all files under the input directory\n",
    "\n",
    "import os\n",
    "for dirname, _, filenames in os.walk('/kaggle/input'):\n",
    "    for filename in filenames:\n",
    "        print(os.path.join(dirname, filename))\n",
    "\n",
    "# You can write up to 20GB to the current directory (/kaggle/working/) that gets preserved as output when you create a version using \"Save & Run All\" \n",
    "# You can also write temporary files to /kaggle/temp/, but they won't be saved outside of the current session"
   ]
  },
  {
   "cell_type": "code",
   "execution_count": 2,
   "id": "a381c396",
   "metadata": {
    "execution": {
     "iopub.execute_input": "2024-12-18T15:03:37.645263Z",
     "iopub.status.busy": "2024-12-18T15:03:37.644741Z",
     "iopub.status.idle": "2024-12-18T15:03:41.154632Z",
     "shell.execute_reply": "2024-12-18T15:03:41.153596Z"
    },
    "papermill": {
     "duration": 3.520468,
     "end_time": "2024-12-18T15:03:41.157079",
     "exception": false,
     "start_time": "2024-12-18T15:03:37.636611",
     "status": "completed"
    },
    "tags": []
   },
   "outputs": [],
   "source": [
    "round2 = pd.read_csv('/kaggle/input/vehicle-sales-data/car_prices.csv')"
   ]
  },
  {
   "cell_type": "code",
   "execution_count": 3,
   "id": "54d023b7",
   "metadata": {
    "execution": {
     "iopub.execute_input": "2024-12-18T15:03:41.176168Z",
     "iopub.status.busy": "2024-12-18T15:03:41.175784Z",
     "iopub.status.idle": "2024-12-18T15:03:41.223295Z",
     "shell.execute_reply": "2024-12-18T15:03:41.222040Z"
    },
    "papermill": {
     "duration": 0.059337,
     "end_time": "2024-12-18T15:03:41.225598",
     "exception": false,
     "start_time": "2024-12-18T15:03:41.166261",
     "status": "completed"
    },
    "tags": []
   },
   "outputs": [
    {
     "data": {
      "text/html": [
       "<div>\n",
       "<style scoped>\n",
       "    .dataframe tbody tr th:only-of-type {\n",
       "        vertical-align: middle;\n",
       "    }\n",
       "\n",
       "    .dataframe tbody tr th {\n",
       "        vertical-align: top;\n",
       "    }\n",
       "\n",
       "    .dataframe thead th {\n",
       "        text-align: right;\n",
       "    }\n",
       "</style>\n",
       "<table border=\"1\" class=\"dataframe\">\n",
       "  <thead>\n",
       "    <tr style=\"text-align: right;\">\n",
       "      <th></th>\n",
       "      <th>year</th>\n",
       "      <th>make</th>\n",
       "      <th>model</th>\n",
       "      <th>trim</th>\n",
       "      <th>body</th>\n",
       "      <th>transmission</th>\n",
       "      <th>vin</th>\n",
       "      <th>state</th>\n",
       "      <th>condition</th>\n",
       "      <th>odometer</th>\n",
       "      <th>color</th>\n",
       "      <th>interior</th>\n",
       "      <th>seller</th>\n",
       "      <th>mmr</th>\n",
       "      <th>sellingprice</th>\n",
       "      <th>saledate</th>\n",
       "    </tr>\n",
       "  </thead>\n",
       "  <tbody>\n",
       "    <tr>\n",
       "      <th>0</th>\n",
       "      <td>2015</td>\n",
       "      <td>Kia</td>\n",
       "      <td>Sorento</td>\n",
       "      <td>LX</td>\n",
       "      <td>SUV</td>\n",
       "      <td>automatic</td>\n",
       "      <td>5xyktca69fg566472</td>\n",
       "      <td>ca</td>\n",
       "      <td>5.0</td>\n",
       "      <td>16639.0</td>\n",
       "      <td>white</td>\n",
       "      <td>black</td>\n",
       "      <td>kia motors america  inc</td>\n",
       "      <td>20500.0</td>\n",
       "      <td>21500.0</td>\n",
       "      <td>Tue Dec 16 2014 12:30:00 GMT-0800 (PST)</td>\n",
       "    </tr>\n",
       "    <tr>\n",
       "      <th>1</th>\n",
       "      <td>2015</td>\n",
       "      <td>Kia</td>\n",
       "      <td>Sorento</td>\n",
       "      <td>LX</td>\n",
       "      <td>SUV</td>\n",
       "      <td>automatic</td>\n",
       "      <td>5xyktca69fg561319</td>\n",
       "      <td>ca</td>\n",
       "      <td>5.0</td>\n",
       "      <td>9393.0</td>\n",
       "      <td>white</td>\n",
       "      <td>beige</td>\n",
       "      <td>kia motors america  inc</td>\n",
       "      <td>20800.0</td>\n",
       "      <td>21500.0</td>\n",
       "      <td>Tue Dec 16 2014 12:30:00 GMT-0800 (PST)</td>\n",
       "    </tr>\n",
       "    <tr>\n",
       "      <th>2</th>\n",
       "      <td>2014</td>\n",
       "      <td>BMW</td>\n",
       "      <td>3 Series</td>\n",
       "      <td>328i SULEV</td>\n",
       "      <td>Sedan</td>\n",
       "      <td>automatic</td>\n",
       "      <td>wba3c1c51ek116351</td>\n",
       "      <td>ca</td>\n",
       "      <td>45.0</td>\n",
       "      <td>1331.0</td>\n",
       "      <td>gray</td>\n",
       "      <td>black</td>\n",
       "      <td>financial services remarketing (lease)</td>\n",
       "      <td>31900.0</td>\n",
       "      <td>30000.0</td>\n",
       "      <td>Thu Jan 15 2015 04:30:00 GMT-0800 (PST)</td>\n",
       "    </tr>\n",
       "    <tr>\n",
       "      <th>3</th>\n",
       "      <td>2015</td>\n",
       "      <td>Volvo</td>\n",
       "      <td>S60</td>\n",
       "      <td>T5</td>\n",
       "      <td>Sedan</td>\n",
       "      <td>automatic</td>\n",
       "      <td>yv1612tb4f1310987</td>\n",
       "      <td>ca</td>\n",
       "      <td>41.0</td>\n",
       "      <td>14282.0</td>\n",
       "      <td>white</td>\n",
       "      <td>black</td>\n",
       "      <td>volvo na rep/world omni</td>\n",
       "      <td>27500.0</td>\n",
       "      <td>27750.0</td>\n",
       "      <td>Thu Jan 29 2015 04:30:00 GMT-0800 (PST)</td>\n",
       "    </tr>\n",
       "    <tr>\n",
       "      <th>4</th>\n",
       "      <td>2014</td>\n",
       "      <td>BMW</td>\n",
       "      <td>6 Series Gran Coupe</td>\n",
       "      <td>650i</td>\n",
       "      <td>Sedan</td>\n",
       "      <td>automatic</td>\n",
       "      <td>wba6b2c57ed129731</td>\n",
       "      <td>ca</td>\n",
       "      <td>43.0</td>\n",
       "      <td>2641.0</td>\n",
       "      <td>gray</td>\n",
       "      <td>black</td>\n",
       "      <td>financial services remarketing (lease)</td>\n",
       "      <td>66000.0</td>\n",
       "      <td>67000.0</td>\n",
       "      <td>Thu Dec 18 2014 12:30:00 GMT-0800 (PST)</td>\n",
       "    </tr>\n",
       "    <tr>\n",
       "      <th>...</th>\n",
       "      <td>...</td>\n",
       "      <td>...</td>\n",
       "      <td>...</td>\n",
       "      <td>...</td>\n",
       "      <td>...</td>\n",
       "      <td>...</td>\n",
       "      <td>...</td>\n",
       "      <td>...</td>\n",
       "      <td>...</td>\n",
       "      <td>...</td>\n",
       "      <td>...</td>\n",
       "      <td>...</td>\n",
       "      <td>...</td>\n",
       "      <td>...</td>\n",
       "      <td>...</td>\n",
       "      <td>...</td>\n",
       "    </tr>\n",
       "    <tr>\n",
       "      <th>558832</th>\n",
       "      <td>2015</td>\n",
       "      <td>Kia</td>\n",
       "      <td>K900</td>\n",
       "      <td>Luxury</td>\n",
       "      <td>Sedan</td>\n",
       "      <td>NaN</td>\n",
       "      <td>knalw4d4xf6019304</td>\n",
       "      <td>in</td>\n",
       "      <td>45.0</td>\n",
       "      <td>18255.0</td>\n",
       "      <td>silver</td>\n",
       "      <td>black</td>\n",
       "      <td>avis corporation</td>\n",
       "      <td>35300.0</td>\n",
       "      <td>33000.0</td>\n",
       "      <td>Thu Jul 09 2015 07:00:00 GMT-0700 (PDT)</td>\n",
       "    </tr>\n",
       "    <tr>\n",
       "      <th>558833</th>\n",
       "      <td>2012</td>\n",
       "      <td>Ram</td>\n",
       "      <td>2500</td>\n",
       "      <td>Power Wagon</td>\n",
       "      <td>Crew Cab</td>\n",
       "      <td>automatic</td>\n",
       "      <td>3c6td5et6cg112407</td>\n",
       "      <td>wa</td>\n",
       "      <td>5.0</td>\n",
       "      <td>54393.0</td>\n",
       "      <td>white</td>\n",
       "      <td>black</td>\n",
       "      <td>i -5 uhlmann rv</td>\n",
       "      <td>30200.0</td>\n",
       "      <td>30800.0</td>\n",
       "      <td>Wed Jul 08 2015 09:30:00 GMT-0700 (PDT)</td>\n",
       "    </tr>\n",
       "    <tr>\n",
       "      <th>558834</th>\n",
       "      <td>2012</td>\n",
       "      <td>BMW</td>\n",
       "      <td>X5</td>\n",
       "      <td>xDrive35d</td>\n",
       "      <td>SUV</td>\n",
       "      <td>automatic</td>\n",
       "      <td>5uxzw0c58cl668465</td>\n",
       "      <td>ca</td>\n",
       "      <td>48.0</td>\n",
       "      <td>50561.0</td>\n",
       "      <td>black</td>\n",
       "      <td>black</td>\n",
       "      <td>financial services remarketing (lease)</td>\n",
       "      <td>29800.0</td>\n",
       "      <td>34000.0</td>\n",
       "      <td>Wed Jul 08 2015 09:30:00 GMT-0700 (PDT)</td>\n",
       "    </tr>\n",
       "    <tr>\n",
       "      <th>558835</th>\n",
       "      <td>2015</td>\n",
       "      <td>Nissan</td>\n",
       "      <td>Altima</td>\n",
       "      <td>2.5 S</td>\n",
       "      <td>sedan</td>\n",
       "      <td>automatic</td>\n",
       "      <td>1n4al3ap0fc216050</td>\n",
       "      <td>ga</td>\n",
       "      <td>38.0</td>\n",
       "      <td>16658.0</td>\n",
       "      <td>white</td>\n",
       "      <td>black</td>\n",
       "      <td>enterprise vehicle exchange / tra / rental / t...</td>\n",
       "      <td>15100.0</td>\n",
       "      <td>11100.0</td>\n",
       "      <td>Thu Jul 09 2015 06:45:00 GMT-0700 (PDT)</td>\n",
       "    </tr>\n",
       "    <tr>\n",
       "      <th>558836</th>\n",
       "      <td>2014</td>\n",
       "      <td>Ford</td>\n",
       "      <td>F-150</td>\n",
       "      <td>XLT</td>\n",
       "      <td>SuperCrew</td>\n",
       "      <td>automatic</td>\n",
       "      <td>1ftfw1et2eke87277</td>\n",
       "      <td>ca</td>\n",
       "      <td>34.0</td>\n",
       "      <td>15008.0</td>\n",
       "      <td>gray</td>\n",
       "      <td>gray</td>\n",
       "      <td>ford motor credit company llc pd</td>\n",
       "      <td>29600.0</td>\n",
       "      <td>26700.0</td>\n",
       "      <td>Thu May 28 2015 05:30:00 GMT-0700 (PDT)</td>\n",
       "    </tr>\n",
       "  </tbody>\n",
       "</table>\n",
       "<p>558837 rows × 16 columns</p>\n",
       "</div>"
      ],
      "text/plain": [
       "        year    make                model         trim       body  \\\n",
       "0       2015     Kia              Sorento           LX        SUV   \n",
       "1       2015     Kia              Sorento           LX        SUV   \n",
       "2       2014     BMW             3 Series   328i SULEV      Sedan   \n",
       "3       2015   Volvo                  S60           T5      Sedan   \n",
       "4       2014     BMW  6 Series Gran Coupe         650i      Sedan   \n",
       "...      ...     ...                  ...          ...        ...   \n",
       "558832  2015     Kia                 K900       Luxury      Sedan   \n",
       "558833  2012     Ram                 2500  Power Wagon   Crew Cab   \n",
       "558834  2012     BMW                   X5    xDrive35d        SUV   \n",
       "558835  2015  Nissan               Altima        2.5 S      sedan   \n",
       "558836  2014    Ford                F-150          XLT  SuperCrew   \n",
       "\n",
       "       transmission                vin state  condition  odometer   color  \\\n",
       "0         automatic  5xyktca69fg566472    ca        5.0   16639.0   white   \n",
       "1         automatic  5xyktca69fg561319    ca        5.0    9393.0   white   \n",
       "2         automatic  wba3c1c51ek116351    ca       45.0    1331.0    gray   \n",
       "3         automatic  yv1612tb4f1310987    ca       41.0   14282.0   white   \n",
       "4         automatic  wba6b2c57ed129731    ca       43.0    2641.0    gray   \n",
       "...             ...                ...   ...        ...       ...     ...   \n",
       "558832          NaN  knalw4d4xf6019304    in       45.0   18255.0  silver   \n",
       "558833    automatic  3c6td5et6cg112407    wa        5.0   54393.0   white   \n",
       "558834    automatic  5uxzw0c58cl668465    ca       48.0   50561.0   black   \n",
       "558835    automatic  1n4al3ap0fc216050    ga       38.0   16658.0   white   \n",
       "558836    automatic  1ftfw1et2eke87277    ca       34.0   15008.0    gray   \n",
       "\n",
       "       interior                                             seller      mmr  \\\n",
       "0         black                            kia motors america  inc  20500.0   \n",
       "1         beige                            kia motors america  inc  20800.0   \n",
       "2         black             financial services remarketing (lease)  31900.0   \n",
       "3         black                            volvo na rep/world omni  27500.0   \n",
       "4         black             financial services remarketing (lease)  66000.0   \n",
       "...         ...                                                ...      ...   \n",
       "558832    black                                   avis corporation  35300.0   \n",
       "558833    black                                    i -5 uhlmann rv  30200.0   \n",
       "558834    black             financial services remarketing (lease)  29800.0   \n",
       "558835    black  enterprise vehicle exchange / tra / rental / t...  15100.0   \n",
       "558836     gray                   ford motor credit company llc pd  29600.0   \n",
       "\n",
       "        sellingprice                                 saledate  \n",
       "0            21500.0  Tue Dec 16 2014 12:30:00 GMT-0800 (PST)  \n",
       "1            21500.0  Tue Dec 16 2014 12:30:00 GMT-0800 (PST)  \n",
       "2            30000.0  Thu Jan 15 2015 04:30:00 GMT-0800 (PST)  \n",
       "3            27750.0  Thu Jan 29 2015 04:30:00 GMT-0800 (PST)  \n",
       "4            67000.0  Thu Dec 18 2014 12:30:00 GMT-0800 (PST)  \n",
       "...              ...                                      ...  \n",
       "558832       33000.0  Thu Jul 09 2015 07:00:00 GMT-0700 (PDT)  \n",
       "558833       30800.0  Wed Jul 08 2015 09:30:00 GMT-0700 (PDT)  \n",
       "558834       34000.0  Wed Jul 08 2015 09:30:00 GMT-0700 (PDT)  \n",
       "558835       11100.0  Thu Jul 09 2015 06:45:00 GMT-0700 (PDT)  \n",
       "558836       26700.0  Thu May 28 2015 05:30:00 GMT-0700 (PDT)  \n",
       "\n",
       "[558837 rows x 16 columns]"
      ]
     },
     "execution_count": 3,
     "metadata": {},
     "output_type": "execute_result"
    }
   ],
   "source": [
    "round2"
   ]
  },
  {
   "cell_type": "code",
   "execution_count": 4,
   "id": "28bf7e0d",
   "metadata": {
    "execution": {
     "iopub.execute_input": "2024-12-18T15:03:41.241197Z",
     "iopub.status.busy": "2024-12-18T15:03:41.240852Z",
     "iopub.status.idle": "2024-12-18T15:03:41.732564Z",
     "shell.execute_reply": "2024-12-18T15:03:41.731468Z"
    },
    "papermill": {
     "duration": 0.501933,
     "end_time": "2024-12-18T15:03:41.734781",
     "exception": false,
     "start_time": "2024-12-18T15:03:41.232848",
     "status": "completed"
    },
    "tags": []
   },
   "outputs": [
    {
     "data": {
      "text/plain": [
       "year                34\n",
       "make                96\n",
       "model              973\n",
       "trim              1963\n",
       "body                87\n",
       "transmission         4\n",
       "vin             550297\n",
       "state               64\n",
       "condition           41\n",
       "odometer        172278\n",
       "color               46\n",
       "interior            17\n",
       "seller           14263\n",
       "mmr               1101\n",
       "sellingprice      1887\n",
       "saledate          3766\n",
       "dtype: int64"
      ]
     },
     "execution_count": 4,
     "metadata": {},
     "output_type": "execute_result"
    }
   ],
   "source": [
    "round2.nunique()"
   ]
  },
  {
   "cell_type": "code",
   "execution_count": 5,
   "id": "bd4cbaf7",
   "metadata": {
    "execution": {
     "iopub.execute_input": "2024-12-18T15:03:41.750795Z",
     "iopub.status.busy": "2024-12-18T15:03:41.750412Z",
     "iopub.status.idle": "2024-12-18T15:03:41.755079Z",
     "shell.execute_reply": "2024-12-18T15:03:41.754166Z"
    },
    "papermill": {
     "duration": 0.015177,
     "end_time": "2024-12-18T15:03:41.757018",
     "exception": false,
     "start_time": "2024-12-18T15:03:41.741841",
     "status": "completed"
    },
    "tags": []
   },
   "outputs": [],
   "source": [
    "tobeDeleted = ['vin', 'odometer', 'seller', 'saledate']"
   ]
  },
  {
   "cell_type": "code",
   "execution_count": 6,
   "id": "b373efb4",
   "metadata": {
    "execution": {
     "iopub.execute_input": "2024-12-18T15:03:41.772498Z",
     "iopub.status.busy": "2024-12-18T15:03:41.772114Z",
     "iopub.status.idle": "2024-12-18T15:03:41.825102Z",
     "shell.execute_reply": "2024-12-18T15:03:41.824035Z"
    },
    "papermill": {
     "duration": 0.063524,
     "end_time": "2024-12-18T15:03:41.827494",
     "exception": false,
     "start_time": "2024-12-18T15:03:41.763970",
     "status": "completed"
    },
    "tags": []
   },
   "outputs": [],
   "source": [
    "round2 = round2.drop (tobeDeleted, axis=1)"
   ]
  },
  {
   "cell_type": "code",
   "execution_count": 7,
   "id": "2dbec032",
   "metadata": {
    "execution": {
     "iopub.execute_input": "2024-12-18T15:03:41.843015Z",
     "iopub.status.busy": "2024-12-18T15:03:41.842624Z",
     "iopub.status.idle": "2024-12-18T15:03:41.860250Z",
     "shell.execute_reply": "2024-12-18T15:03:41.859226Z"
    },
    "papermill": {
     "duration": 0.02774,
     "end_time": "2024-12-18T15:03:41.862353",
     "exception": false,
     "start_time": "2024-12-18T15:03:41.834613",
     "status": "completed"
    },
    "tags": []
   },
   "outputs": [
    {
     "data": {
      "text/html": [
       "<div>\n",
       "<style scoped>\n",
       "    .dataframe tbody tr th:only-of-type {\n",
       "        vertical-align: middle;\n",
       "    }\n",
       "\n",
       "    .dataframe tbody tr th {\n",
       "        vertical-align: top;\n",
       "    }\n",
       "\n",
       "    .dataframe thead th {\n",
       "        text-align: right;\n",
       "    }\n",
       "</style>\n",
       "<table border=\"1\" class=\"dataframe\">\n",
       "  <thead>\n",
       "    <tr style=\"text-align: right;\">\n",
       "      <th></th>\n",
       "      <th>year</th>\n",
       "      <th>make</th>\n",
       "      <th>model</th>\n",
       "      <th>trim</th>\n",
       "      <th>body</th>\n",
       "      <th>transmission</th>\n",
       "      <th>state</th>\n",
       "      <th>condition</th>\n",
       "      <th>color</th>\n",
       "      <th>interior</th>\n",
       "      <th>mmr</th>\n",
       "      <th>sellingprice</th>\n",
       "    </tr>\n",
       "  </thead>\n",
       "  <tbody>\n",
       "    <tr>\n",
       "      <th>0</th>\n",
       "      <td>2015</td>\n",
       "      <td>Kia</td>\n",
       "      <td>Sorento</td>\n",
       "      <td>LX</td>\n",
       "      <td>SUV</td>\n",
       "      <td>automatic</td>\n",
       "      <td>ca</td>\n",
       "      <td>5.0</td>\n",
       "      <td>white</td>\n",
       "      <td>black</td>\n",
       "      <td>20500.0</td>\n",
       "      <td>21500.0</td>\n",
       "    </tr>\n",
       "    <tr>\n",
       "      <th>1</th>\n",
       "      <td>2015</td>\n",
       "      <td>Kia</td>\n",
       "      <td>Sorento</td>\n",
       "      <td>LX</td>\n",
       "      <td>SUV</td>\n",
       "      <td>automatic</td>\n",
       "      <td>ca</td>\n",
       "      <td>5.0</td>\n",
       "      <td>white</td>\n",
       "      <td>beige</td>\n",
       "      <td>20800.0</td>\n",
       "      <td>21500.0</td>\n",
       "    </tr>\n",
       "    <tr>\n",
       "      <th>2</th>\n",
       "      <td>2014</td>\n",
       "      <td>BMW</td>\n",
       "      <td>3 Series</td>\n",
       "      <td>328i SULEV</td>\n",
       "      <td>Sedan</td>\n",
       "      <td>automatic</td>\n",
       "      <td>ca</td>\n",
       "      <td>45.0</td>\n",
       "      <td>gray</td>\n",
       "      <td>black</td>\n",
       "      <td>31900.0</td>\n",
       "      <td>30000.0</td>\n",
       "    </tr>\n",
       "    <tr>\n",
       "      <th>3</th>\n",
       "      <td>2015</td>\n",
       "      <td>Volvo</td>\n",
       "      <td>S60</td>\n",
       "      <td>T5</td>\n",
       "      <td>Sedan</td>\n",
       "      <td>automatic</td>\n",
       "      <td>ca</td>\n",
       "      <td>41.0</td>\n",
       "      <td>white</td>\n",
       "      <td>black</td>\n",
       "      <td>27500.0</td>\n",
       "      <td>27750.0</td>\n",
       "    </tr>\n",
       "    <tr>\n",
       "      <th>4</th>\n",
       "      <td>2014</td>\n",
       "      <td>BMW</td>\n",
       "      <td>6 Series Gran Coupe</td>\n",
       "      <td>650i</td>\n",
       "      <td>Sedan</td>\n",
       "      <td>automatic</td>\n",
       "      <td>ca</td>\n",
       "      <td>43.0</td>\n",
       "      <td>gray</td>\n",
       "      <td>black</td>\n",
       "      <td>66000.0</td>\n",
       "      <td>67000.0</td>\n",
       "    </tr>\n",
       "    <tr>\n",
       "      <th>...</th>\n",
       "      <td>...</td>\n",
       "      <td>...</td>\n",
       "      <td>...</td>\n",
       "      <td>...</td>\n",
       "      <td>...</td>\n",
       "      <td>...</td>\n",
       "      <td>...</td>\n",
       "      <td>...</td>\n",
       "      <td>...</td>\n",
       "      <td>...</td>\n",
       "      <td>...</td>\n",
       "      <td>...</td>\n",
       "    </tr>\n",
       "    <tr>\n",
       "      <th>558832</th>\n",
       "      <td>2015</td>\n",
       "      <td>Kia</td>\n",
       "      <td>K900</td>\n",
       "      <td>Luxury</td>\n",
       "      <td>Sedan</td>\n",
       "      <td>NaN</td>\n",
       "      <td>in</td>\n",
       "      <td>45.0</td>\n",
       "      <td>silver</td>\n",
       "      <td>black</td>\n",
       "      <td>35300.0</td>\n",
       "      <td>33000.0</td>\n",
       "    </tr>\n",
       "    <tr>\n",
       "      <th>558833</th>\n",
       "      <td>2012</td>\n",
       "      <td>Ram</td>\n",
       "      <td>2500</td>\n",
       "      <td>Power Wagon</td>\n",
       "      <td>Crew Cab</td>\n",
       "      <td>automatic</td>\n",
       "      <td>wa</td>\n",
       "      <td>5.0</td>\n",
       "      <td>white</td>\n",
       "      <td>black</td>\n",
       "      <td>30200.0</td>\n",
       "      <td>30800.0</td>\n",
       "    </tr>\n",
       "    <tr>\n",
       "      <th>558834</th>\n",
       "      <td>2012</td>\n",
       "      <td>BMW</td>\n",
       "      <td>X5</td>\n",
       "      <td>xDrive35d</td>\n",
       "      <td>SUV</td>\n",
       "      <td>automatic</td>\n",
       "      <td>ca</td>\n",
       "      <td>48.0</td>\n",
       "      <td>black</td>\n",
       "      <td>black</td>\n",
       "      <td>29800.0</td>\n",
       "      <td>34000.0</td>\n",
       "    </tr>\n",
       "    <tr>\n",
       "      <th>558835</th>\n",
       "      <td>2015</td>\n",
       "      <td>Nissan</td>\n",
       "      <td>Altima</td>\n",
       "      <td>2.5 S</td>\n",
       "      <td>sedan</td>\n",
       "      <td>automatic</td>\n",
       "      <td>ga</td>\n",
       "      <td>38.0</td>\n",
       "      <td>white</td>\n",
       "      <td>black</td>\n",
       "      <td>15100.0</td>\n",
       "      <td>11100.0</td>\n",
       "    </tr>\n",
       "    <tr>\n",
       "      <th>558836</th>\n",
       "      <td>2014</td>\n",
       "      <td>Ford</td>\n",
       "      <td>F-150</td>\n",
       "      <td>XLT</td>\n",
       "      <td>SuperCrew</td>\n",
       "      <td>automatic</td>\n",
       "      <td>ca</td>\n",
       "      <td>34.0</td>\n",
       "      <td>gray</td>\n",
       "      <td>gray</td>\n",
       "      <td>29600.0</td>\n",
       "      <td>26700.0</td>\n",
       "    </tr>\n",
       "  </tbody>\n",
       "</table>\n",
       "<p>558837 rows × 12 columns</p>\n",
       "</div>"
      ],
      "text/plain": [
       "        year    make                model         trim       body  \\\n",
       "0       2015     Kia              Sorento           LX        SUV   \n",
       "1       2015     Kia              Sorento           LX        SUV   \n",
       "2       2014     BMW             3 Series   328i SULEV      Sedan   \n",
       "3       2015   Volvo                  S60           T5      Sedan   \n",
       "4       2014     BMW  6 Series Gran Coupe         650i      Sedan   \n",
       "...      ...     ...                  ...          ...        ...   \n",
       "558832  2015     Kia                 K900       Luxury      Sedan   \n",
       "558833  2012     Ram                 2500  Power Wagon   Crew Cab   \n",
       "558834  2012     BMW                   X5    xDrive35d        SUV   \n",
       "558835  2015  Nissan               Altima        2.5 S      sedan   \n",
       "558836  2014    Ford                F-150          XLT  SuperCrew   \n",
       "\n",
       "       transmission state  condition   color interior      mmr  sellingprice  \n",
       "0         automatic    ca        5.0   white    black  20500.0       21500.0  \n",
       "1         automatic    ca        5.0   white    beige  20800.0       21500.0  \n",
       "2         automatic    ca       45.0    gray    black  31900.0       30000.0  \n",
       "3         automatic    ca       41.0   white    black  27500.0       27750.0  \n",
       "4         automatic    ca       43.0    gray    black  66000.0       67000.0  \n",
       "...             ...   ...        ...     ...      ...      ...           ...  \n",
       "558832          NaN    in       45.0  silver    black  35300.0       33000.0  \n",
       "558833    automatic    wa        5.0   white    black  30200.0       30800.0  \n",
       "558834    automatic    ca       48.0   black    black  29800.0       34000.0  \n",
       "558835    automatic    ga       38.0   white    black  15100.0       11100.0  \n",
       "558836    automatic    ca       34.0    gray     gray  29600.0       26700.0  \n",
       "\n",
       "[558837 rows x 12 columns]"
      ]
     },
     "execution_count": 7,
     "metadata": {},
     "output_type": "execute_result"
    }
   ],
   "source": [
    "round2"
   ]
  },
  {
   "cell_type": "code",
   "execution_count": 8,
   "id": "94f118c7",
   "metadata": {
    "execution": {
     "iopub.execute_input": "2024-12-18T15:03:41.878103Z",
     "iopub.status.busy": "2024-12-18T15:03:41.877776Z",
     "iopub.status.idle": "2024-12-18T15:03:42.103894Z",
     "shell.execute_reply": "2024-12-18T15:03:42.102759Z"
    },
    "papermill": {
     "duration": 0.236467,
     "end_time": "2024-12-18T15:03:42.106039",
     "exception": false,
     "start_time": "2024-12-18T15:03:41.869572",
     "status": "completed"
    },
    "tags": []
   },
   "outputs": [
    {
     "data": {
      "text/plain": [
       "year                0\n",
       "make            10301\n",
       "model           10399\n",
       "trim            10651\n",
       "body            13195\n",
       "transmission    65352\n",
       "state               0\n",
       "condition       11820\n",
       "color             749\n",
       "interior          749\n",
       "mmr                38\n",
       "sellingprice       12\n",
       "dtype: int64"
      ]
     },
     "execution_count": 8,
     "metadata": {},
     "output_type": "execute_result"
    }
   ],
   "source": [
    "round2.isnull().sum()"
   ]
  },
  {
   "cell_type": "code",
   "execution_count": 9,
   "id": "d175755c",
   "metadata": {
    "execution": {
     "iopub.execute_input": "2024-12-18T15:03:42.123408Z",
     "iopub.status.busy": "2024-12-18T15:03:42.122479Z",
     "iopub.status.idle": "2024-12-18T15:03:42.366357Z",
     "shell.execute_reply": "2024-12-18T15:03:42.364972Z"
    },
    "papermill": {
     "duration": 0.255777,
     "end_time": "2024-12-18T15:03:42.369244",
     "exception": false,
     "start_time": "2024-12-18T15:03:42.113467",
     "status": "completed"
    },
    "tags": []
   },
   "outputs": [],
   "source": [
    "nul = round2.isnull().sum().sort_values(ascending = False)"
   ]
  },
  {
   "cell_type": "code",
   "execution_count": 10,
   "id": "3abeb463",
   "metadata": {
    "execution": {
     "iopub.execute_input": "2024-12-18T15:03:42.391455Z",
     "iopub.status.busy": "2024-12-18T15:03:42.391076Z",
     "iopub.status.idle": "2024-12-18T15:03:42.396502Z",
     "shell.execute_reply": "2024-12-18T15:03:42.395461Z"
    },
    "papermill": {
     "duration": 0.019107,
     "end_time": "2024-12-18T15:03:42.398498",
     "exception": false,
     "start_time": "2024-12-18T15:03:42.379391",
     "status": "completed"
    },
    "tags": []
   },
   "outputs": [],
   "source": [
    "nul_perc = (nul/len(round2))*100"
   ]
  },
  {
   "cell_type": "code",
   "execution_count": 11,
   "id": "8b3e45de",
   "metadata": {
    "execution": {
     "iopub.execute_input": "2024-12-18T15:03:42.416932Z",
     "iopub.status.busy": "2024-12-18T15:03:42.416563Z",
     "iopub.status.idle": "2024-12-18T15:03:42.424093Z",
     "shell.execute_reply": "2024-12-18T15:03:42.423096Z"
    },
    "papermill": {
     "duration": 0.019615,
     "end_time": "2024-12-18T15:03:42.425959",
     "exception": false,
     "start_time": "2024-12-18T15:03:42.406344",
     "status": "completed"
    },
    "tags": []
   },
   "outputs": [
    {
     "data": {
      "text/plain": [
       "transmission    11.694287\n",
       "body             2.361154\n",
       "condition        2.115107\n",
       "trim             1.905922\n",
       "model            1.860829\n",
       "make             1.843292\n",
       "color            0.134028\n",
       "interior         0.134028\n",
       "mmr              0.006800\n",
       "sellingprice     0.002147\n",
       "year             0.000000\n",
       "state            0.000000\n",
       "dtype: float64"
      ]
     },
     "execution_count": 11,
     "metadata": {},
     "output_type": "execute_result"
    }
   ],
   "source": [
    "nul_perc"
   ]
  },
  {
   "cell_type": "code",
   "execution_count": 12,
   "id": "efb5b22c",
   "metadata": {
    "execution": {
     "iopub.execute_input": "2024-12-18T15:03:42.442577Z",
     "iopub.status.busy": "2024-12-18T15:03:42.442216Z",
     "iopub.status.idle": "2024-12-18T15:03:42.470854Z",
     "shell.execute_reply": "2024-12-18T15:03:42.469706Z"
    },
    "papermill": {
     "duration": 0.039328,
     "end_time": "2024-12-18T15:03:42.472977",
     "exception": false,
     "start_time": "2024-12-18T15:03:42.433649",
     "status": "completed"
    },
    "tags": []
   },
   "outputs": [
    {
     "data": {
      "text/plain": [
       "(558837, 6)"
      ]
     },
     "execution_count": 12,
     "metadata": {},
     "output_type": "execute_result"
    }
   ],
   "source": [
    "nul_perc = nul_perc[nul_perc>0.3]\n",
    "nul_col = nul_perc.sort_values(ascending = False).index\n",
    "round2 = round2.drop(nul_col, axis = 1)\n",
    "round2.shape"
   ]
  },
  {
   "cell_type": "code",
   "execution_count": 13,
   "id": "76755d10",
   "metadata": {
    "execution": {
     "iopub.execute_input": "2024-12-18T15:03:42.489514Z",
     "iopub.status.busy": "2024-12-18T15:03:42.489190Z",
     "iopub.status.idle": "2024-12-18T15:03:42.502912Z",
     "shell.execute_reply": "2024-12-18T15:03:42.501753Z"
    },
    "papermill": {
     "duration": 0.024578,
     "end_time": "2024-12-18T15:03:42.505129",
     "exception": false,
     "start_time": "2024-12-18T15:03:42.480551",
     "status": "completed"
    },
    "tags": []
   },
   "outputs": [
    {
     "data": {
      "text/html": [
       "<div>\n",
       "<style scoped>\n",
       "    .dataframe tbody tr th:only-of-type {\n",
       "        vertical-align: middle;\n",
       "    }\n",
       "\n",
       "    .dataframe tbody tr th {\n",
       "        vertical-align: top;\n",
       "    }\n",
       "\n",
       "    .dataframe thead th {\n",
       "        text-align: right;\n",
       "    }\n",
       "</style>\n",
       "<table border=\"1\" class=\"dataframe\">\n",
       "  <thead>\n",
       "    <tr style=\"text-align: right;\">\n",
       "      <th></th>\n",
       "      <th>year</th>\n",
       "      <th>state</th>\n",
       "      <th>color</th>\n",
       "      <th>interior</th>\n",
       "      <th>mmr</th>\n",
       "      <th>sellingprice</th>\n",
       "    </tr>\n",
       "  </thead>\n",
       "  <tbody>\n",
       "    <tr>\n",
       "      <th>0</th>\n",
       "      <td>2015</td>\n",
       "      <td>ca</td>\n",
       "      <td>white</td>\n",
       "      <td>black</td>\n",
       "      <td>20500.0</td>\n",
       "      <td>21500.0</td>\n",
       "    </tr>\n",
       "    <tr>\n",
       "      <th>1</th>\n",
       "      <td>2015</td>\n",
       "      <td>ca</td>\n",
       "      <td>white</td>\n",
       "      <td>beige</td>\n",
       "      <td>20800.0</td>\n",
       "      <td>21500.0</td>\n",
       "    </tr>\n",
       "    <tr>\n",
       "      <th>2</th>\n",
       "      <td>2014</td>\n",
       "      <td>ca</td>\n",
       "      <td>gray</td>\n",
       "      <td>black</td>\n",
       "      <td>31900.0</td>\n",
       "      <td>30000.0</td>\n",
       "    </tr>\n",
       "    <tr>\n",
       "      <th>3</th>\n",
       "      <td>2015</td>\n",
       "      <td>ca</td>\n",
       "      <td>white</td>\n",
       "      <td>black</td>\n",
       "      <td>27500.0</td>\n",
       "      <td>27750.0</td>\n",
       "    </tr>\n",
       "    <tr>\n",
       "      <th>4</th>\n",
       "      <td>2014</td>\n",
       "      <td>ca</td>\n",
       "      <td>gray</td>\n",
       "      <td>black</td>\n",
       "      <td>66000.0</td>\n",
       "      <td>67000.0</td>\n",
       "    </tr>\n",
       "    <tr>\n",
       "      <th>...</th>\n",
       "      <td>...</td>\n",
       "      <td>...</td>\n",
       "      <td>...</td>\n",
       "      <td>...</td>\n",
       "      <td>...</td>\n",
       "      <td>...</td>\n",
       "    </tr>\n",
       "    <tr>\n",
       "      <th>558832</th>\n",
       "      <td>2015</td>\n",
       "      <td>in</td>\n",
       "      <td>silver</td>\n",
       "      <td>black</td>\n",
       "      <td>35300.0</td>\n",
       "      <td>33000.0</td>\n",
       "    </tr>\n",
       "    <tr>\n",
       "      <th>558833</th>\n",
       "      <td>2012</td>\n",
       "      <td>wa</td>\n",
       "      <td>white</td>\n",
       "      <td>black</td>\n",
       "      <td>30200.0</td>\n",
       "      <td>30800.0</td>\n",
       "    </tr>\n",
       "    <tr>\n",
       "      <th>558834</th>\n",
       "      <td>2012</td>\n",
       "      <td>ca</td>\n",
       "      <td>black</td>\n",
       "      <td>black</td>\n",
       "      <td>29800.0</td>\n",
       "      <td>34000.0</td>\n",
       "    </tr>\n",
       "    <tr>\n",
       "      <th>558835</th>\n",
       "      <td>2015</td>\n",
       "      <td>ga</td>\n",
       "      <td>white</td>\n",
       "      <td>black</td>\n",
       "      <td>15100.0</td>\n",
       "      <td>11100.0</td>\n",
       "    </tr>\n",
       "    <tr>\n",
       "      <th>558836</th>\n",
       "      <td>2014</td>\n",
       "      <td>ca</td>\n",
       "      <td>gray</td>\n",
       "      <td>gray</td>\n",
       "      <td>29600.0</td>\n",
       "      <td>26700.0</td>\n",
       "    </tr>\n",
       "  </tbody>\n",
       "</table>\n",
       "<p>558837 rows × 6 columns</p>\n",
       "</div>"
      ],
      "text/plain": [
       "        year state   color interior      mmr  sellingprice\n",
       "0       2015    ca   white    black  20500.0       21500.0\n",
       "1       2015    ca   white    beige  20800.0       21500.0\n",
       "2       2014    ca    gray    black  31900.0       30000.0\n",
       "3       2015    ca   white    black  27500.0       27750.0\n",
       "4       2014    ca    gray    black  66000.0       67000.0\n",
       "...      ...   ...     ...      ...      ...           ...\n",
       "558832  2015    in  silver    black  35300.0       33000.0\n",
       "558833  2012    wa   white    black  30200.0       30800.0\n",
       "558834  2012    ca   black    black  29800.0       34000.0\n",
       "558835  2015    ga   white    black  15100.0       11100.0\n",
       "558836  2014    ca    gray     gray  29600.0       26700.0\n",
       "\n",
       "[558837 rows x 6 columns]"
      ]
     },
     "execution_count": 13,
     "metadata": {},
     "output_type": "execute_result"
    }
   ],
   "source": [
    "round2"
   ]
  },
  {
   "cell_type": "code",
   "execution_count": 14,
   "id": "f5aa5f8f",
   "metadata": {
    "execution": {
     "iopub.execute_input": "2024-12-18T15:03:42.522736Z",
     "iopub.status.busy": "2024-12-18T15:03:42.522343Z",
     "iopub.status.idle": "2024-12-18T15:03:42.605151Z",
     "shell.execute_reply": "2024-12-18T15:03:42.603960Z"
    },
    "papermill": {
     "duration": 0.094117,
     "end_time": "2024-12-18T15:03:42.607441",
     "exception": false,
     "start_time": "2024-12-18T15:03:42.513324",
     "status": "completed"
    },
    "tags": []
   },
   "outputs": [],
   "source": [
    "nul = round2.isnull().sum().sort_values(ascending=False)\n",
    "nul_perc = (nul / len(round2)) * 100"
   ]
  },
  {
   "cell_type": "code",
   "execution_count": 15,
   "id": "6311e263",
   "metadata": {
    "execution": {
     "iopub.execute_input": "2024-12-18T15:03:42.625076Z",
     "iopub.status.busy": "2024-12-18T15:03:42.624703Z",
     "iopub.status.idle": "2024-12-18T15:03:42.632291Z",
     "shell.execute_reply": "2024-12-18T15:03:42.631211Z"
    },
    "papermill": {
     "duration": 0.018935,
     "end_time": "2024-12-18T15:03:42.634339",
     "exception": false,
     "start_time": "2024-12-18T15:03:42.615404",
     "status": "completed"
    },
    "tags": []
   },
   "outputs": [
    {
     "data": {
      "text/plain": [
       "color           0.134028\n",
       "interior        0.134028\n",
       "mmr             0.006800\n",
       "sellingprice    0.002147\n",
       "year            0.000000\n",
       "state           0.000000\n",
       "dtype: float64"
      ]
     },
     "execution_count": 15,
     "metadata": {},
     "output_type": "execute_result"
    }
   ],
   "source": [
    "nul_perc"
   ]
  },
  {
   "cell_type": "code",
   "execution_count": 16,
   "id": "e1415e6b",
   "metadata": {
    "execution": {
     "iopub.execute_input": "2024-12-18T15:03:42.652121Z",
     "iopub.status.busy": "2024-12-18T15:03:42.651718Z",
     "iopub.status.idle": "2024-12-18T15:03:42.759922Z",
     "shell.execute_reply": "2024-12-18T15:03:42.758654Z"
    },
    "papermill": {
     "duration": 0.12023,
     "end_time": "2024-12-18T15:03:42.762834",
     "exception": false,
     "start_time": "2024-12-18T15:03:42.642604",
     "status": "completed"
    },
    "tags": []
   },
   "outputs": [
    {
     "name": "stdout",
     "output_type": "stream",
     "text": [
      "<class 'pandas.core.frame.DataFrame'>\n",
      "RangeIndex: 558837 entries, 0 to 558836\n",
      "Data columns (total 6 columns):\n",
      " #   Column        Non-Null Count   Dtype  \n",
      "---  ------        --------------   -----  \n",
      " 0   year          558837 non-null  int64  \n",
      " 1   state         558837 non-null  object \n",
      " 2   color         558088 non-null  object \n",
      " 3   interior      558088 non-null  object \n",
      " 4   mmr           558799 non-null  float64\n",
      " 5   sellingprice  558825 non-null  float64\n",
      "dtypes: float64(2), int64(1), object(3)\n",
      "memory usage: 25.6+ MB\n"
     ]
    }
   ],
   "source": [
    "round2.info()"
   ]
  },
  {
   "cell_type": "code",
   "execution_count": 17,
   "id": "8725e538",
   "metadata": {
    "execution": {
     "iopub.execute_input": "2024-12-18T15:03:42.781504Z",
     "iopub.status.busy": "2024-12-18T15:03:42.781155Z",
     "iopub.status.idle": "2024-12-18T15:03:43.002990Z",
     "shell.execute_reply": "2024-12-18T15:03:43.001743Z"
    },
    "papermill": {
     "duration": 0.234055,
     "end_time": "2024-12-18T15:03:43.005425",
     "exception": false,
     "start_time": "2024-12-18T15:03:42.771370",
     "status": "completed"
    },
    "tags": []
   },
   "outputs": [
    {
     "name": "stderr",
     "output_type": "stream",
     "text": [
      "/tmp/ipykernel_17/3873266056.py:1: FutureWarning: DataFrame.fillna with 'method' is deprecated and will raise in a future version. Use obj.ffill() or obj.bfill() instead.\n",
      "  round2 = round2.fillna(method='ffill')\n"
     ]
    }
   ],
   "source": [
    "round2 = round2.fillna(method='ffill')"
   ]
  },
  {
   "cell_type": "code",
   "execution_count": 18,
   "id": "46b15d2b",
   "metadata": {
    "execution": {
     "iopub.execute_input": "2024-12-18T15:03:43.023890Z",
     "iopub.status.busy": "2024-12-18T15:03:43.023485Z",
     "iopub.status.idle": "2024-12-18T15:03:43.125693Z",
     "shell.execute_reply": "2024-12-18T15:03:43.124351Z"
    },
    "papermill": {
     "duration": 0.114423,
     "end_time": "2024-12-18T15:03:43.128405",
     "exception": false,
     "start_time": "2024-12-18T15:03:43.013982",
     "status": "completed"
    },
    "tags": []
   },
   "outputs": [
    {
     "name": "stdout",
     "output_type": "stream",
     "text": [
      "<class 'pandas.core.frame.DataFrame'>\n",
      "RangeIndex: 558837 entries, 0 to 558836\n",
      "Data columns (total 6 columns):\n",
      " #   Column        Non-Null Count   Dtype  \n",
      "---  ------        --------------   -----  \n",
      " 0   year          558837 non-null  int64  \n",
      " 1   state         558837 non-null  object \n",
      " 2   color         558837 non-null  object \n",
      " 3   interior      558837 non-null  object \n",
      " 4   mmr           558837 non-null  float64\n",
      " 5   sellingprice  558837 non-null  float64\n",
      "dtypes: float64(2), int64(1), object(3)\n",
      "memory usage: 25.6+ MB\n"
     ]
    }
   ],
   "source": [
    "round2.info()"
   ]
  },
  {
   "cell_type": "code",
   "execution_count": 19,
   "id": "9c5c55fd",
   "metadata": {
    "execution": {
     "iopub.execute_input": "2024-12-18T15:03:43.146052Z",
     "iopub.status.busy": "2024-12-18T15:03:43.145656Z",
     "iopub.status.idle": "2024-12-18T15:03:43.241114Z",
     "shell.execute_reply": "2024-12-18T15:03:43.240191Z"
    },
    "papermill": {
     "duration": 0.106959,
     "end_time": "2024-12-18T15:03:43.243582",
     "exception": false,
     "start_time": "2024-12-18T15:03:43.136623",
     "status": "completed"
    },
    "tags": []
   },
   "outputs": [],
   "source": [
    "nul = round2.isnull().sum().sort_values(ascending=False)\n",
    "nul_perc = (nul / len(round2)) * 100"
   ]
  },
  {
   "cell_type": "code",
   "execution_count": 20,
   "id": "8155c046",
   "metadata": {
    "execution": {
     "iopub.execute_input": "2024-12-18T15:03:43.261790Z",
     "iopub.status.busy": "2024-12-18T15:03:43.261399Z",
     "iopub.status.idle": "2024-12-18T15:03:43.269299Z",
     "shell.execute_reply": "2024-12-18T15:03:43.268180Z"
    },
    "papermill": {
     "duration": 0.01918,
     "end_time": "2024-12-18T15:03:43.271298",
     "exception": false,
     "start_time": "2024-12-18T15:03:43.252118",
     "status": "completed"
    },
    "tags": []
   },
   "outputs": [
    {
     "data": {
      "text/plain": [
       "year            0.0\n",
       "state           0.0\n",
       "color           0.0\n",
       "interior        0.0\n",
       "mmr             0.0\n",
       "sellingprice    0.0\n",
       "dtype: float64"
      ]
     },
     "execution_count": 20,
     "metadata": {},
     "output_type": "execute_result"
    }
   ],
   "source": [
    "nul_perc"
   ]
  },
  {
   "cell_type": "code",
   "execution_count": 21,
   "id": "94195ccf",
   "metadata": {
    "execution": {
     "iopub.execute_input": "2024-12-18T15:03:43.289651Z",
     "iopub.status.busy": "2024-12-18T15:03:43.289277Z",
     "iopub.status.idle": "2024-12-18T15:03:43.296079Z",
     "shell.execute_reply": "2024-12-18T15:03:43.295069Z"
    },
    "papermill": {
     "duration": 0.018345,
     "end_time": "2024-12-18T15:03:43.298224",
     "exception": false,
     "start_time": "2024-12-18T15:03:43.279879",
     "status": "completed"
    },
    "tags": []
   },
   "outputs": [
    {
     "data": {
      "text/plain": [
       "['state', 'color', 'interior']"
      ]
     },
     "execution_count": 21,
     "metadata": {},
     "output_type": "execute_result"
    }
   ],
   "source": [
    "categorical = [column for column in round2.columns if round2[column].dtype == \"object\"]\n",
    "categorical"
   ]
  },
  {
   "cell_type": "code",
   "execution_count": 22,
   "id": "153e02f1",
   "metadata": {
    "execution": {
     "iopub.execute_input": "2024-12-18T15:03:43.317413Z",
     "iopub.status.busy": "2024-12-18T15:03:43.316999Z",
     "iopub.status.idle": "2024-12-18T15:03:43.452271Z",
     "shell.execute_reply": "2024-12-18T15:03:43.450657Z"
    },
    "papermill": {
     "duration": 0.148044,
     "end_time": "2024-12-18T15:03:43.454693",
     "exception": false,
     "start_time": "2024-12-18T15:03:43.306649",
     "status": "completed"
    },
    "tags": []
   },
   "outputs": [
    {
     "name": "stdout",
     "output_type": "stream",
     "text": [
      "state\n",
      "fl                   82945\n",
      "ca                   73148\n",
      "pa                   53907\n",
      "tx                   45913\n",
      "ga                   34750\n",
      "                     ...  \n",
      "3vwd17aj2fm285365        1\n",
      "3vwd17aj3fm276741        1\n",
      "3vwd17aj2fm258506        1\n",
      "3vwd17aj4fm201708        1\n",
      "3vwd17aj2fm261566        1\n",
      "Name: count, Length: 64, dtype: int64\n",
      "~~~~~~~~~~~~~~~~~~~~~~~~~~~~~~~~~~~~~~~~~~~~~~~~~~~~~~~~~~~~~~~~~~~~~~~~~~~~~~~~~~~~~~~~~~~~~~~~~~~~\n",
      "color\n",
      "black        111139\n",
      "white        106814\n",
      "silver        83476\n",
      "gray          82948\n",
      "blue          51197\n",
      "red           43627\n",
      "—             24784\n",
      "green         11389\n",
      "gold          11353\n",
      "beige          9231\n",
      "burgundy       8980\n",
      "brown          6722\n",
      "orange         2079\n",
      "purple         1563\n",
      "off-white      1451\n",
      "yellow         1286\n",
      "charcoal        479\n",
      "turquoise       236\n",
      "pink             42\n",
      "lime             15\n",
      "9562              1\n",
      "2846              1\n",
      "18561             1\n",
      "18384             1\n",
      "5705              1\n",
      "2817              1\n",
      "6158              1\n",
      "721               1\n",
      "20627             1\n",
      "20379             1\n",
      "9837              1\n",
      "9887              1\n",
      "2172              1\n",
      "339               1\n",
      "6864              1\n",
      "2711              1\n",
      "11034             1\n",
      "16633             1\n",
      "6388              1\n",
      "15719             1\n",
      "12655             1\n",
      "14872             1\n",
      "1167              1\n",
      "9410              1\n",
      "4802              1\n",
      "5001              1\n",
      "Name: count, dtype: int64\n",
      "~~~~~~~~~~~~~~~~~~~~~~~~~~~~~~~~~~~~~~~~~~~~~~~~~~~~~~~~~~~~~~~~~~~~~~~~~~~~~~~~~~~~~~~~~~~~~~~~~~~~\n",
      "interior\n",
      "black        244712\n",
      "gray         178747\n",
      "beige         59825\n",
      "tan           44158\n",
      "—             17128\n",
      "brown          8649\n",
      "red            1364\n",
      "blue           1144\n",
      "silver         1104\n",
      "off-white       486\n",
      "purple          339\n",
      "gold            324\n",
      "white           256\n",
      "green           245\n",
      "burgundy        191\n",
      "orange          145\n",
      "yellow           20\n",
      "Name: count, dtype: int64\n",
      "~~~~~~~~~~~~~~~~~~~~~~~~~~~~~~~~~~~~~~~~~~~~~~~~~~~~~~~~~~~~~~~~~~~~~~~~~~~~~~~~~~~~~~~~~~~~~~~~~~~~\n"
     ]
    }
   ],
   "source": [
    "for i in categorical:\n",
    "    print (round2[i].value_counts())\n",
    "    print ('~' * 100)"
   ]
  },
  {
   "cell_type": "code",
   "execution_count": 23,
   "id": "a0465098",
   "metadata": {
    "execution": {
     "iopub.execute_input": "2024-12-18T15:03:43.473858Z",
     "iopub.status.busy": "2024-12-18T15:03:43.473453Z",
     "iopub.status.idle": "2024-12-18T15:03:45.580031Z",
     "shell.execute_reply": "2024-12-18T15:03:45.579006Z"
    },
    "papermill": {
     "duration": 2.119074,
     "end_time": "2024-12-18T15:03:45.582487",
     "exception": false,
     "start_time": "2024-12-18T15:03:43.463413",
     "status": "completed"
    },
    "tags": []
   },
   "outputs": [],
   "source": [
    "from sklearn.preprocessing import LabelEncoder, StandardScaler\n",
    "from sklearn.model_selection import train_test_split\n",
    "\n",
    "label= LabelEncoder()\n",
    "\n",
    "for value in categorical :\n",
    "    round2[value] = label.fit_transform(round2[value])"
   ]
  },
  {
   "cell_type": "code",
   "execution_count": 24,
   "id": "6c172038",
   "metadata": {
    "execution": {
     "iopub.execute_input": "2024-12-18T15:03:45.600984Z",
     "iopub.status.busy": "2024-12-18T15:03:45.600482Z",
     "iopub.status.idle": "2024-12-18T15:03:45.607140Z",
     "shell.execute_reply": "2024-12-18T15:03:45.606067Z"
    },
    "papermill": {
     "duration": 0.018239,
     "end_time": "2024-12-18T15:03:45.609259",
     "exception": false,
     "start_time": "2024-12-18T15:03:45.591020",
     "status": "completed"
    },
    "tags": []
   },
   "outputs": [
    {
     "data": {
      "text/plain": [
       "['state', 'color', 'interior']"
      ]
     },
     "execution_count": 24,
     "metadata": {},
     "output_type": "execute_result"
    }
   ],
   "source": [
    "categorical"
   ]
  },
  {
   "cell_type": "code",
   "execution_count": 25,
   "id": "64931692",
   "metadata": {
    "execution": {
     "iopub.execute_input": "2024-12-18T15:03:45.627489Z",
     "iopub.status.busy": "2024-12-18T15:03:45.627122Z",
     "iopub.status.idle": "2024-12-18T15:03:45.654241Z",
     "shell.execute_reply": "2024-12-18T15:03:45.653057Z"
    },
    "papermill": {
     "duration": 0.038736,
     "end_time": "2024-12-18T15:03:45.656479",
     "exception": false,
     "start_time": "2024-12-18T15:03:45.617743",
     "status": "completed"
    },
    "tags": []
   },
   "outputs": [
    {
     "name": "stdout",
     "output_type": "stream",
     "text": [
      "<class 'pandas.core.frame.DataFrame'>\n",
      "RangeIndex: 558837 entries, 0 to 558836\n",
      "Data columns (total 6 columns):\n",
      " #   Column        Non-Null Count   Dtype  \n",
      "---  ------        --------------   -----  \n",
      " 0   year          558837 non-null  int64  \n",
      " 1   state         558837 non-null  int64  \n",
      " 2   color         558837 non-null  int64  \n",
      " 3   interior      558837 non-null  int64  \n",
      " 4   mmr           558837 non-null  float64\n",
      " 5   sellingprice  558837 non-null  float64\n",
      "dtypes: float64(2), int64(4)\n",
      "memory usage: 25.6 MB\n"
     ]
    }
   ],
   "source": [
    "round2.info()"
   ]
  },
  {
   "cell_type": "code",
   "execution_count": 26,
   "id": "9715fe30",
   "metadata": {
    "execution": {
     "iopub.execute_input": "2024-12-18T15:03:45.675495Z",
     "iopub.status.busy": "2024-12-18T15:03:45.675095Z",
     "iopub.status.idle": "2024-12-18T15:03:45.689527Z",
     "shell.execute_reply": "2024-12-18T15:03:45.688525Z"
    },
    "papermill": {
     "duration": 0.026618,
     "end_time": "2024-12-18T15:03:45.691729",
     "exception": false,
     "start_time": "2024-12-18T15:03:45.665111",
     "status": "completed"
    },
    "tags": []
   },
   "outputs": [],
   "source": [
    "x = round2.drop('sellingprice', axis=1)"
   ]
  },
  {
   "cell_type": "code",
   "execution_count": 27,
   "id": "b63171ea",
   "metadata": {
    "execution": {
     "iopub.execute_input": "2024-12-18T15:03:45.711072Z",
     "iopub.status.busy": "2024-12-18T15:03:45.710704Z",
     "iopub.status.idle": "2024-12-18T15:03:45.715191Z",
     "shell.execute_reply": "2024-12-18T15:03:45.714165Z"
    },
    "papermill": {
     "duration": 0.016352,
     "end_time": "2024-12-18T15:03:45.717202",
     "exception": false,
     "start_time": "2024-12-18T15:03:45.700850",
     "status": "completed"
    },
    "tags": []
   },
   "outputs": [],
   "source": [
    "y = round2['sellingprice']"
   ]
  },
  {
   "cell_type": "code",
   "execution_count": 28,
   "id": "4935f7e3",
   "metadata": {
    "execution": {
     "iopub.execute_input": "2024-12-18T15:03:45.736491Z",
     "iopub.status.busy": "2024-12-18T15:03:45.736120Z",
     "iopub.status.idle": "2024-12-18T15:03:45.875695Z",
     "shell.execute_reply": "2024-12-18T15:03:45.874740Z"
    },
    "papermill": {
     "duration": 0.15209,
     "end_time": "2024-12-18T15:03:45.878018",
     "exception": false,
     "start_time": "2024-12-18T15:03:45.725928",
     "status": "completed"
    },
    "tags": []
   },
   "outputs": [],
   "source": [
    "scaler = StandardScaler()\n",
    "\n",
    "x = scaler.fit_transform(x)\n",
    "\n",
    "x_train, x_test, y_train, y_test = train_test_split(x,y, train_size=0.7, random_state=42)"
   ]
  },
  {
   "cell_type": "code",
   "execution_count": 29,
   "id": "a7837c1f",
   "metadata": {
    "execution": {
     "iopub.execute_input": "2024-12-18T15:03:45.897175Z",
     "iopub.status.busy": "2024-12-18T15:03:45.896817Z",
     "iopub.status.idle": "2024-12-18T15:03:46.092857Z",
     "shell.execute_reply": "2024-12-18T15:03:46.091876Z"
    },
    "papermill": {
     "duration": 0.208449,
     "end_time": "2024-12-18T15:03:46.095203",
     "exception": false,
     "start_time": "2024-12-18T15:03:45.886754",
     "status": "completed"
    },
    "tags": []
   },
   "outputs": [],
   "source": [
    "from sklearn.linear_model import LinearRegression\n",
    "import matplotlib.pyplot as plt\n",
    "from sklearn.metrics import mean_absolute_error"
   ]
  },
  {
   "cell_type": "code",
   "execution_count": 30,
   "id": "2caa112a",
   "metadata": {
    "execution": {
     "iopub.execute_input": "2024-12-18T15:03:46.114813Z",
     "iopub.status.busy": "2024-12-18T15:03:46.114455Z",
     "iopub.status.idle": "2024-12-18T15:03:46.247137Z",
     "shell.execute_reply": "2024-12-18T15:03:46.245608Z"
    },
    "papermill": {
     "duration": 0.146054,
     "end_time": "2024-12-18T15:03:46.250212",
     "exception": false,
     "start_time": "2024-12-18T15:03:46.104158",
     "status": "completed"
    },
    "tags": []
   },
   "outputs": [
    {
     "data": {
      "text/plain": [
       "0.967077957760575"
      ]
     },
     "execution_count": 30,
     "metadata": {},
     "output_type": "execute_result"
    }
   ],
   "source": [
    "linreg = LinearRegression()\n",
    "linreg.fit(x_train,y_train)\n",
    "linreg.score(x_train,y_train)"
   ]
  },
  {
   "cell_type": "code",
   "execution_count": 31,
   "id": "ea814e88",
   "metadata": {
    "execution": {
     "iopub.execute_input": "2024-12-18T15:03:46.284884Z",
     "iopub.status.busy": "2024-12-18T15:03:46.283992Z",
     "iopub.status.idle": "2024-12-18T15:03:46.292537Z",
     "shell.execute_reply": "2024-12-18T15:03:46.290283Z"
    },
    "papermill": {
     "duration": 0.028924,
     "end_time": "2024-12-18T15:03:46.295252",
     "exception": false,
     "start_time": "2024-12-18T15:03:46.266328",
     "status": "completed"
    },
    "tags": []
   },
   "outputs": [
    {
     "name": "stdout",
     "output_type": "stream",
     "text": [
      "Intercept (bias): 13609.34679144052\n",
      "Coefficient: [ -15.83702697  -30.07266964   60.36848619  -31.18684224 9593.27433059]\n"
     ]
    }
   ],
   "source": [
    "print(\"Intercept (bias):\" , linreg.intercept_)\n",
    "print(\"Coefficient:\", linreg.coef_)"
   ]
  },
  {
   "cell_type": "code",
   "execution_count": 32,
   "id": "2a7666db",
   "metadata": {
    "execution": {
     "iopub.execute_input": "2024-12-18T15:03:46.332309Z",
     "iopub.status.busy": "2024-12-18T15:03:46.331255Z",
     "iopub.status.idle": "2024-12-18T15:03:46.339315Z",
     "shell.execute_reply": "2024-12-18T15:03:46.338191Z"
    },
    "papermill": {
     "duration": 0.030121,
     "end_time": "2024-12-18T15:03:46.342959",
     "exception": false,
     "start_time": "2024-12-18T15:03:46.312838",
     "status": "completed"
    },
    "tags": []
   },
   "outputs": [],
   "source": [
    "y_pred = linreg.predict(x_test)"
   ]
  },
  {
   "cell_type": "code",
   "execution_count": 33,
   "id": "82e49940",
   "metadata": {
    "execution": {
     "iopub.execute_input": "2024-12-18T15:03:46.380862Z",
     "iopub.status.busy": "2024-12-18T15:03:46.378021Z",
     "iopub.status.idle": "2024-12-18T15:03:46.388710Z",
     "shell.execute_reply": "2024-12-18T15:03:46.387689Z"
    },
    "papermill": {
     "duration": 0.032674,
     "end_time": "2024-12-18T15:03:46.392151",
     "exception": false,
     "start_time": "2024-12-18T15:03:46.359477",
     "status": "completed"
    },
    "tags": []
   },
   "outputs": [],
   "source": [
    "mae = mean_absolute_error(y_test,y_pred)"
   ]
  },
  {
   "cell_type": "code",
   "execution_count": 34,
   "id": "480b9dc3",
   "metadata": {
    "execution": {
     "iopub.execute_input": "2024-12-18T15:03:46.427632Z",
     "iopub.status.busy": "2024-12-18T15:03:46.427014Z",
     "iopub.status.idle": "2024-12-18T15:03:46.437993Z",
     "shell.execute_reply": "2024-12-18T15:03:46.436716Z"
    },
    "papermill": {
     "duration": 0.032804,
     "end_time": "2024-12-18T15:03:46.441313",
     "exception": false,
     "start_time": "2024-12-18T15:03:46.408509",
     "status": "completed"
    },
    "tags": []
   },
   "outputs": [
    {
     "name": "stdout",
     "output_type": "stream",
     "text": [
      "Mean Absolute Error (MAE):  1086.4662538586426\n"
     ]
    }
   ],
   "source": [
    "print(\"Mean Absolute Error (MAE): \",mae)"
   ]
  },
  {
   "cell_type": "code",
   "execution_count": 35,
   "id": "f03b72b2",
   "metadata": {
    "execution": {
     "iopub.execute_input": "2024-12-18T15:03:46.468543Z",
     "iopub.status.busy": "2024-12-18T15:03:46.467490Z",
     "iopub.status.idle": "2024-12-18T15:03:46.481668Z",
     "shell.execute_reply": "2024-12-18T15:03:46.480451Z"
    },
    "papermill": {
     "duration": 0.026514,
     "end_time": "2024-12-18T15:03:46.484156",
     "exception": false,
     "start_time": "2024-12-18T15:03:46.457642",
     "status": "completed"
    },
    "tags": []
   },
   "outputs": [
    {
     "data": {
      "text/html": [
       "<div>\n",
       "<style scoped>\n",
       "    .dataframe tbody tr th:only-of-type {\n",
       "        vertical-align: middle;\n",
       "    }\n",
       "\n",
       "    .dataframe tbody tr th {\n",
       "        vertical-align: top;\n",
       "    }\n",
       "\n",
       "    .dataframe thead th {\n",
       "        text-align: right;\n",
       "    }\n",
       "</style>\n",
       "<table border=\"1\" class=\"dataframe\">\n",
       "  <thead>\n",
       "    <tr style=\"text-align: right;\">\n",
       "      <th></th>\n",
       "      <th>year</th>\n",
       "      <th>state</th>\n",
       "      <th>color</th>\n",
       "      <th>interior</th>\n",
       "      <th>mmr</th>\n",
       "      <th>sellingprice</th>\n",
       "    </tr>\n",
       "  </thead>\n",
       "  <tbody>\n",
       "    <tr>\n",
       "      <th>0</th>\n",
       "      <td>2015</td>\n",
       "      <td>29</td>\n",
       "      <td>43</td>\n",
       "      <td>1</td>\n",
       "      <td>20500.0</td>\n",
       "      <td>21500.0</td>\n",
       "    </tr>\n",
       "    <tr>\n",
       "      <th>1</th>\n",
       "      <td>2015</td>\n",
       "      <td>29</td>\n",
       "      <td>43</td>\n",
       "      <td>0</td>\n",
       "      <td>20800.0</td>\n",
       "      <td>21500.0</td>\n",
       "    </tr>\n",
       "    <tr>\n",
       "      <th>2</th>\n",
       "      <td>2014</td>\n",
       "      <td>29</td>\n",
       "      <td>33</td>\n",
       "      <td>1</td>\n",
       "      <td>31900.0</td>\n",
       "      <td>30000.0</td>\n",
       "    </tr>\n",
       "    <tr>\n",
       "      <th>3</th>\n",
       "      <td>2015</td>\n",
       "      <td>29</td>\n",
       "      <td>43</td>\n",
       "      <td>1</td>\n",
       "      <td>27500.0</td>\n",
       "      <td>27750.0</td>\n",
       "    </tr>\n",
       "    <tr>\n",
       "      <th>4</th>\n",
       "      <td>2014</td>\n",
       "      <td>29</td>\n",
       "      <td>33</td>\n",
       "      <td>1</td>\n",
       "      <td>66000.0</td>\n",
       "      <td>67000.0</td>\n",
       "    </tr>\n",
       "    <tr>\n",
       "      <th>...</th>\n",
       "      <td>...</td>\n",
       "      <td>...</td>\n",
       "      <td>...</td>\n",
       "      <td>...</td>\n",
       "      <td>...</td>\n",
       "      <td>...</td>\n",
       "    </tr>\n",
       "    <tr>\n",
       "      <th>558832</th>\n",
       "      <td>2015</td>\n",
       "      <td>35</td>\n",
       "      <td>41</td>\n",
       "      <td>1</td>\n",
       "      <td>35300.0</td>\n",
       "      <td>33000.0</td>\n",
       "    </tr>\n",
       "    <tr>\n",
       "      <th>558833</th>\n",
       "      <td>2012</td>\n",
       "      <td>62</td>\n",
       "      <td>43</td>\n",
       "      <td>1</td>\n",
       "      <td>30200.0</td>\n",
       "      <td>30800.0</td>\n",
       "    </tr>\n",
       "    <tr>\n",
       "      <th>558834</th>\n",
       "      <td>2012</td>\n",
       "      <td>29</td>\n",
       "      <td>27</td>\n",
       "      <td>1</td>\n",
       "      <td>29800.0</td>\n",
       "      <td>34000.0</td>\n",
       "    </tr>\n",
       "    <tr>\n",
       "      <th>558835</th>\n",
       "      <td>2015</td>\n",
       "      <td>32</td>\n",
       "      <td>43</td>\n",
       "      <td>1</td>\n",
       "      <td>15100.0</td>\n",
       "      <td>11100.0</td>\n",
       "    </tr>\n",
       "    <tr>\n",
       "      <th>558836</th>\n",
       "      <td>2014</td>\n",
       "      <td>29</td>\n",
       "      <td>33</td>\n",
       "      <td>6</td>\n",
       "      <td>29600.0</td>\n",
       "      <td>26700.0</td>\n",
       "    </tr>\n",
       "  </tbody>\n",
       "</table>\n",
       "<p>558837 rows × 6 columns</p>\n",
       "</div>"
      ],
      "text/plain": [
       "        year  state  color  interior      mmr  sellingprice\n",
       "0       2015     29     43         1  20500.0       21500.0\n",
       "1       2015     29     43         0  20800.0       21500.0\n",
       "2       2014     29     33         1  31900.0       30000.0\n",
       "3       2015     29     43         1  27500.0       27750.0\n",
       "4       2014     29     33         1  66000.0       67000.0\n",
       "...      ...    ...    ...       ...      ...           ...\n",
       "558832  2015     35     41         1  35300.0       33000.0\n",
       "558833  2012     62     43         1  30200.0       30800.0\n",
       "558834  2012     29     27         1  29800.0       34000.0\n",
       "558835  2015     32     43         1  15100.0       11100.0\n",
       "558836  2014     29     33         6  29600.0       26700.0\n",
       "\n",
       "[558837 rows x 6 columns]"
      ]
     },
     "execution_count": 35,
     "metadata": {},
     "output_type": "execute_result"
    }
   ],
   "source": [
    "pd.set_option('display.max_columns',None)\n",
    "round2"
   ]
  }
 ],
 "metadata": {
  "kaggle": {
   "accelerator": "none",
   "dataSources": [
    {
     "datasetId": 4476093,
     "sourceId": 7673611,
     "sourceType": "datasetVersion"
    }
   ],
   "dockerImageVersionId": 30804,
   "isGpuEnabled": false,
   "isInternetEnabled": true,
   "language": "python",
   "sourceType": "notebook"
  },
  "kernelspec": {
   "display_name": "Python 3",
   "language": "python",
   "name": "python3"
  },
  "language_info": {
   "codemirror_mode": {
    "name": "ipython",
    "version": 3
   },
   "file_extension": ".py",
   "mimetype": "text/x-python",
   "name": "python",
   "nbconvert_exporter": "python",
   "pygments_lexer": "ipython3",
   "version": "3.10.14"
  },
  "papermill": {
   "default_parameters": {},
   "duration": 13.976028,
   "end_time": "2024-12-18T15:03:47.114358",
   "environment_variables": {},
   "exception": null,
   "input_path": "__notebook__.ipynb",
   "output_path": "__notebook__.ipynb",
   "parameters": {},
   "start_time": "2024-12-18T15:03:33.138330",
   "version": "2.6.0"
  }
 },
 "nbformat": 4,
 "nbformat_minor": 5
}
